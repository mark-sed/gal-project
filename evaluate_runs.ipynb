{
 "cells": [
  {
   "cell_type": "markdown",
   "metadata": {},
   "source": [
    "# Run evaluator\n",
    "This script was created to plot graphs visualising duration of algorithms. Data is csv file, where each column is duration of algorithm in one run. Each runs are same. First cell plots line graph, second box plots box graph. But firstly, import libraries and set static data."
   ]
  },
  {
   "cell_type": "code",
   "execution_count": null,
   "metadata": {},
   "outputs": [],
   "source": [
    "from numpy.core.records import get_remaining_size\n",
    "import pandas as pd\n",
    "import matplotlib.pyplot as plt\n",
    "\n",
    "in_cols = [\n",
    "    \"id\",\n",
    "    \"evolution\",\n",
    "    \"heuristic\",\n",
    "    \"greedy\",\n",
    "]"
   ]
  },
  {
   "cell_type": "code",
   "execution_count": null,
   "metadata": {},
   "outputs": [],
   "source": [
    "# load dataset from file\n",
    "in_df = pd.read_csv(\"in_csv/runs.csv\", names=in_cols)\n",
    "\n",
    "\n",
    "plt.plot(in_df[\"greedy\"], label=\"greedy\")\n",
    "# if this is commented out, then it won't be in output plot\n",
    "#plt.plot(in_df[\"evolution\"], label=\"evolution\")\n",
    "plt.plot(in_df[\"heuristic\"], label=\"heuristic\")\n",
    "\n",
    "plt.legend()\n",
    "plt.xlabel(\"number of run\")\n",
    "plt.ylabel(\"duration of algorithm\")\n",
    "plt.savefig(\"bench_statistics/runs_gh.png\")\n",
    "plt.clf()\n"
   ]
  },
  {
   "cell_type": "code",
   "execution_count": null,
   "metadata": {},
   "outputs": [],
   "source": [
    "in_df = in_df.drop([\"id\"], axis=1)\n",
    "\n",
    "fig, ax = plt.subplots()\n",
    "ax.boxplot(in_df, labels=[\"evolution\", \"heuristic\", \"greedy\"])\n",
    "plt.savefig(\"bench_statistics/box_geh.png\")\n",
    "plt.clf()\n",
    "\n",
    "# NOTE: removing evolution! if you want to use it again, rerun cell above\n",
    "in_df = in_df.drop([\"evolution\"], axis=1)\n",
    "fig, ax = plt.subplots()\n",
    "ax.boxplot(in_df, labels=[\"heuristic\", \"greedy\"])\n",
    "plt.savefig(\"bench_statistics/box_gh.png\")\n",
    "plt.clf()\n"
   ]
  }
 ],
 "metadata": {
  "interpreter": {
   "hash": "382da41395ab20d4f7e5184c43b6786bcf25139aed4b5cf7c33f0a5b2c8735cd"
  },
  "kernelspec": {
   "display_name": "Python 3.9.6 64-bit",
   "language": "python",
   "name": "python3"
  },
  "language_info": {
   "codemirror_mode": {
    "name": "ipython",
    "version": 3
   },
   "file_extension": ".py",
   "mimetype": "text/x-python",
   "name": "python",
   "nbconvert_exporter": "python",
   "pygments_lexer": "ipython3",
   "version": "3.9.6"
  },
  "orig_nbformat": 4
 },
 "nbformat": 4,
 "nbformat_minor": 2
}
