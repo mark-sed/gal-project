{
 "cells": [
  {
   "cell_type": "markdown",
   "metadata": {},
   "source": [
    "# CSV creator\n",
    "This script was created to help with generation of the input csv file for benchmarking gal.out algorithms. It uses graph_creator unit and some constant settings. Warning - some parts can take long time of execution, if you do not want to complete whole test and you can use even part of it, then stop the code cell. "
   ]
  },
  {
   "cell_type": "code",
   "execution_count": 2,
   "metadata": {},
   "outputs": [],
   "source": [
    "# import modules\n",
    "from graph_creator import graph_creator\n",
    "from tqdm import tqdm\n",
    "\n",
    "# settings of parameters\n",
    "NODE_NUM_INTERVAL = 20\n",
    "MAX_NODE_NUM = 500\n",
    "DIRECTORY = \"bench_graphs/\"\n",
    "CSV_FILE = \"in.csv\"\n",
    "REPETITION = 5\n",
    "POPULATION = 20\n",
    "NODE_NUM_FOR_OTHER_TEST = 100\n",
    "EDGE_INTERVAL = 50\n",
    "COLOR_INTERVAL = 20\n",
    "CONSTRAINTS_NUM_INTERVAL = 10\n",
    "MAX_CONSTRAINTS_NUM = 2000\n",
    "\n",
    "gc = graph_creator()\n",
    "identificator = 0"
   ]
  },
  {
   "cell_type": "markdown",
   "metadata": {},
   "source": [
    "Firstly, we want to benchmark duration of algorithm depending on number of nodes. Graphs will be generated sparse using sparse flag. This part outputs starting and ending index of this test and script will append benchmark inputs into csv file."
   ]
  },
  {
   "cell_type": "code",
   "execution_count": 3,
   "metadata": {},
   "outputs": [
    {
     "name": "stderr",
     "output_type": "stream",
     "text": [
      " 29%|██▉       | 7/24 [00:00<00:00, 43.32it/s]"
     ]
    },
    {
     "name": "stdout",
     "output_type": "stream",
     "text": [
      "sparse graph test start index = 0\n"
     ]
    },
    {
     "name": "stderr",
     "output_type": "stream",
     "text": [
      "100%|██████████| 24/24 [00:48<00:00,  2.04s/it]"
     ]
    },
    {
     "name": "stdout",
     "output_type": "stream",
     "text": [
      "sparse graph test end index = 71\n"
     ]
    },
    {
     "name": "stderr",
     "output_type": "stream",
     "text": [
      "\n"
     ]
    }
   ],
   "source": [
    "print(\"sparse graph test start index = {}\".format(identificator))\n",
    "\n",
    "for node_num in tqdm(range(NODE_NUM_INTERVAL, MAX_NODE_NUM, NODE_NUM_INTERVAL)):\n",
    "    file = \"{}sparse_{}.dot\".format(DIRECTORY, node_num)\n",
    "    graph_creator.write_data(gc.generate_graph(node_num, 0, True), file)\n",
    "    with open(CSV_FILE, \"a\") as f:\n",
    "        f.write(\"{},{},{},{},{},{},{}\\n\".format(identificator, \"g\", file, \"x\", gc.min_colors_to_use + 1, 0, REPETITION))\n",
    "        identificator += 1\n",
    "        f.write(\"{},{},{},{},{},{},{}\\n\".format(identificator, \"e\", file, \"x\", gc.min_colors_to_use + 1, POPULATION, REPETITION))\n",
    "        identificator += 1\n",
    "        f.write(\"{},{},{},{},{},{},{}\\n\".format(identificator, \"h\", file, \"x\", gc.min_colors_to_use + 1, POPULATION, REPETITION))\n",
    "        identificator += 1\n",
    "\n",
    "print(\"sparse graph test end index = {}\".format(identificator - 1))\n"
   ]
  },
  {
   "cell_type": "markdown",
   "metadata": {},
   "source": [
    "Next part creates simillar benchmark as above, except it uses dense graphs."
   ]
  },
  {
   "cell_type": "code",
   "execution_count": 4,
   "metadata": {},
   "outputs": [
    {
     "name": "stderr",
     "output_type": "stream",
     "text": [
      " 12%|█▎        | 3/24 [00:00<00:00, 28.37it/s]"
     ]
    },
    {
     "name": "stdout",
     "output_type": "stream",
     "text": [
      "dense graph test start index = 72\n"
     ]
    },
    {
     "name": "stderr",
     "output_type": "stream",
     "text": [
      "100%|██████████| 24/24 [33:15<00:00, 83.15s/it] \n"
     ]
    },
    {
     "name": "stdout",
     "output_type": "stream",
     "text": [
      "dense graph test end index = 143\n"
     ]
    }
   ],
   "source": [
    "print(\"dense graph test start index = {}\".format(identificator))\n",
    "\n",
    "for node_num in tqdm(range(NODE_NUM_INTERVAL, MAX_NODE_NUM, NODE_NUM_INTERVAL)):\n",
    "    file = \"{}dense_{}.dot\".format(DIRECTORY, node_num)\n",
    "    graph_creator.write_data(gc.generate_graph(node_num, 0, False), file)\n",
    "    with open(CSV_FILE, \"a\") as f:\n",
    "        f.write(\"{},{},{},{},{},{},{}\\n\".format(identificator, \"g\", file, \"x\", gc.min_colors_to_use + 1, 0, REPETITION))\n",
    "        identificator += 1\n",
    "        f.write(\"{},{},{},{},{},{},{}\\n\".format(identificator, \"e\", file, \"x\", gc.min_colors_to_use + 1, POPULATION, REPETITION))\n",
    "        identificator += 1\n",
    "        f.write(\"{},{},{},{},{},{},{}\\n\".format(identificator, \"h\", file, \"x\", gc.min_colors_to_use + 1, POPULATION, REPETITION))\n",
    "        identificator += 1\n",
    "\n",
    "print(\"dense graph test end index = {}\".format(identificator - 1))\n"
   ]
  },
  {
   "cell_type": "markdown",
   "metadata": {},
   "source": [
    "Code bellow generates inputs for testing duration of algorithms depending on number of constraints. There is constant number of nodes and changing is number of constraints. If number of nodes changes too, then duration will depend even on number of nodes."
   ]
  },
  {
   "cell_type": "code",
   "execution_count": null,
   "metadata": {},
   "outputs": [],
   "source": [
    "print(\"constraints test start index = {}\".format(identificator))\n",
    "graph_file = \"{}graph_with_constraints.dot\".format(DIRECTORY)\n",
    "graph_creator.write_data(gc.generate_graph(NODE_NUM_FOR_OTHER_TEST, 0, True), graph_file)\n",
    "\n",
    "for constraints_num in tqdm(range(CONSTRAINTS_NUM_INTERVAL, MAX_CONSTRAINTS_NUM, CONSTRAINTS_NUM_INTERVAL)):\n",
    "    constraint_file = \"{}constraints_{}.dot\".format(DIRECTORY, constraints_num)\n",
    "    graph_creator.write_data(gc.generate_constraints(NODE_NUM_FOR_OTHER_TEST, constraints_num, 0, True, 0), constraint_file)\n",
    "    with open(CSV_FILE, \"a\") as f:\n",
    "        f.write(\"{},{},{},{},{},{},{}\\n\".format(identificator, \"g\", graph_file, constraint_file, gc.min_colors_to_use + 1, 0, REPETITION))\n",
    "        identificator += 1\n",
    "        f.write(\"{},{},{},{},{},{},{}\\n\".format(identificator, \"e\", graph_file, constraint_file, gc.min_colors_to_use + 1, POPULATION, REPETITION))\n",
    "        identificator += 1\n",
    "        f.write(\"{},{},{},{},{},{},{}\\n\".format(identificator, \"h\", graph_file, constraint_file, gc.min_colors_to_use + 1, POPULATION, REPETITION))\n",
    "        identificator += 1\n",
    "print(\"constraints test end index = {}\".format(identificator - 1))\n"
   ]
  },
  {
   "cell_type": "markdown",
   "metadata": {},
   "source": [
    "Code below generates benchmark tests for testing dependency between duration of algorithm and number of edges in graph."
   ]
  },
  {
   "cell_type": "code",
   "execution_count": null,
   "metadata": {},
   "outputs": [],
   "source": [
    "print(\"edge test start index = {}\".format(identificator))\n",
    "min_edges = NODE_NUM_FOR_OTHER_TEST - 1\n",
    "max_edges = int((NODE_NUM_FOR_OTHER_TEST * (NODE_NUM_FOR_OTHER_TEST - 1)) / 2)\n",
    "\n",
    "for edge_num in tqdm(range(min_edges, max_edges, EDGE_INTERVAL)):\n",
    "    graph_file = \"{}graph_edges_{}.dot\".format(DIRECTORY, edge_num)\n",
    "    graph_creator.write_data(gc.generate_graph(NODE_NUM_FOR_OTHER_TEST, edge_num), graph_file)\n",
    "    with open(CSV_FILE, \"a\") as f:\n",
    "        f.write(\"{},{},{},{},{},{},{}\\n\".format(identificator, \"g\", graph_file, \"x\", gc.min_colors_to_use + 1, 0, REPETITION))\n",
    "        identificator += 1\n",
    "        f.write(\"{},{},{},{},{},{},{}\\n\".format(identificator, \"e\", graph_file, \"x\", gc.min_colors_to_use + 1, POPULATION, REPETITION))\n",
    "        identificator += 1\n",
    "        f.write(\"{},{},{},{},{},{},{}\\n\".format(identificator, \"h\", graph_file, \"x\", gc.min_colors_to_use + 1, POPULATION, REPETITION))\n",
    "        identificator += 1\n",
    "print(\"edge test end index = {}\".format(identificator - 1))\n"
   ]
  },
  {
   "cell_type": "markdown",
   "metadata": {},
   "source": [
    "Next 2 code snippets generates tests dependency between number of colors available for coloring method and duration of each algorithm. First one uses sparse graph, second one uses dense graph. "
   ]
  },
  {
   "cell_type": "code",
   "execution_count": null,
   "metadata": {},
   "outputs": [],
   "source": [
    "print(\"sparse color start index = {}\".format(identificator))\n",
    "file = \"{}sparse_color.dot\".format(DIRECTORY)\n",
    "graph_creator.write_data(gc.generate_graph(MAX_NODE_NUM, 0, True), file)\n",
    "\n",
    "for color_num in tqdm(range(gc.min_colors_to_use + 1, MAX_NODE_NUM, COLOR_INTERVAL)):\n",
    "    with open(CSV_FILE, \"a\") as f:\n",
    "        f.write(\"{},{},{},{},{},{},{}\\n\".format(identificator, \"g\", file, \"x\", color_num, 0, REPETITION))\n",
    "        identificator += 1\n",
    "        f.write(\"{},{},{},{},{},{},{}\\n\".format(identificator, \"e\", file, \"x\", color_num, POPULATION, REPETITION))\n",
    "        identificator += 1\n",
    "        f.write(\"{},{},{},{},{},{},{}\\n\".format(identificator, \"h\", file, \"x\", color_num, POPULATION, REPETITION))\n",
    "        identificator += 1\n",
    "print(\"sparse color end index = {}\".format(identificator - 1))\n"
   ]
  },
  {
   "cell_type": "code",
   "execution_count": null,
   "metadata": {},
   "outputs": [],
   "source": [
    "print(\"dense color start index = {}\".format(identificator))\n",
    "file = \"{}dense_color.dot\".format(DIRECTORY)\n",
    "graph_creator.write_data(gc.generate_graph(MAX_NODE_NUM, 0, False), file)\n",
    "\n",
    "for color_num in tqdm(range(gc.min_colors_to_use + 1, MAX_NODE_NUM, COLOR_INTERVAL)):\n",
    "    with open(CSV_FILE, \"a\") as f:\n",
    "        f.write(\"{},{},{},{},{},{},{}\\n\".format(identificator, \"g\", file, \"x\", color_num, 0, REPETITION))\n",
    "        identificator += 1\n",
    "        f.write(\"{},{},{},{},{},{},{}\\n\".format(identificator, \"e\", file, \"x\", color_num, POPULATION, REPETITION))\n",
    "        identificator += 1\n",
    "        f.write(\"{},{},{},{},{},{},{}\\n\".format(identificator, \"h\", file, \"x\", color_num, POPULATION, REPETITION))\n",
    "        identificator += 1\n",
    "print(\"dense color end index = {}\".format(identificator - 1))\n"
   ]
  },
  {
   "cell_type": "markdown",
   "metadata": {},
   "source": [
    "Last benchmark tests dependency between duration of algorithms and number of constraints, where there is improved number of collisions in graph."
   ]
  },
  {
   "cell_type": "code",
   "execution_count": null,
   "metadata": {},
   "outputs": [],
   "source": [
    "print(\"force collisions constraints test start index = {}\".format(identificator))\n",
    "graph_file = \"{}graph_with_forced_collisions.dot\".format(DIRECTORY)\n",
    "graph_creator.write_data(gc.generate_graph(NODE_NUM_FOR_OTHER_TEST, 0, True), graph_file)\n",
    "\n",
    "for constraints_num in tqdm(range(CONSTRAINTS_NUM_INTERVAL, MAX_CONSTRAINTS_NUM, CONSTRAINTS_NUM_INTERVAL)):\n",
    "    constraint_file = \"{}collision_{}.dot\".format(DIRECTORY, constraints_num)\n",
    "    graph_creator.write_data(gc.generate_constraints(NODE_NUM_FOR_OTHER_TEST, constraints_num, 0, True, int(constraints_num/16)), constraint_file)\n",
    "\n",
    "    with open(CSV_FILE, \"a\") as f:\n",
    "        f.write(\"{},{},{},{},{},{},{}\\n\".format(identificator, \"g\", graph_file, constraint_file, gc.min_colors_to_use + 1, 0, REPETITION))\n",
    "        identificator += 1\n",
    "        f.write(\"{},{},{},{},{},{},{}\\n\".format(identificator, \"e\", graph_file, constraint_file, gc.min_colors_to_use + 1, POPULATION, REPETITION))\n",
    "        identificator += 1\n",
    "        f.write(\"{},{},{},{},{},{},{}\\n\".format(identificator, \"h\", graph_file, constraint_file, gc.min_colors_to_use + 1, POPULATION, REPETITION))\n",
    "        identificator += 1\n",
    "print(\"force collisions constraints test end index = {}\".format(identificator - 1))\n"
   ]
  }
 ],
 "metadata": {
  "interpreter": {
   "hash": "382da41395ab20d4f7e5184c43b6786bcf25139aed4b5cf7c33f0a5b2c8735cd"
  },
  "kernelspec": {
   "display_name": "Python 3.9.6 64-bit",
   "language": "python",
   "name": "python3"
  },
  "language_info": {
   "codemirror_mode": {
    "name": "ipython",
    "version": 3
   },
   "file_extension": ".py",
   "mimetype": "text/x-python",
   "name": "python",
   "nbconvert_exporter": "python",
   "pygments_lexer": "ipython3",
   "version": "3.9.6"
  },
  "orig_nbformat": 4
 },
 "nbformat": 4,
 "nbformat_minor": 2
}
